{
 "cells": [
  {
   "cell_type": "code",
   "execution_count": 4,
   "id": "ee811bab",
   "metadata": {
    "scrolled": false
   },
   "outputs": [
    {
     "data": {
      "text/html": [
       "<div>\n",
       "<style scoped>\n",
       "    .dataframe tbody tr th:only-of-type {\n",
       "        vertical-align: middle;\n",
       "    }\n",
       "\n",
       "    .dataframe tbody tr th {\n",
       "        vertical-align: top;\n",
       "    }\n",
       "\n",
       "    .dataframe thead th {\n",
       "        text-align: right;\n",
       "    }\n",
       "</style>\n",
       "<table border=\"1\" class=\"dataframe\">\n",
       "  <thead>\n",
       "    <tr style=\"text-align: right;\">\n",
       "      <th></th>\n",
       "      <th>SlNo</th>\n",
       "      <th>Release Date</th>\n",
       "      <th>MovieName</th>\n",
       "      <th>ReleaseTime</th>\n",
       "      <th>Genre</th>\n",
       "      <th>Budget</th>\n",
       "      <th>BoxOfficeCollection</th>\n",
       "      <th>YoutubeViews</th>\n",
       "      <th>YoutubeLikes</th>\n",
       "      <th>YoutubeDislikes</th>\n",
       "    </tr>\n",
       "  </thead>\n",
       "  <tbody>\n",
       "    <tr>\n",
       "      <th>0</th>\n",
       "      <td>1</td>\n",
       "      <td>18-Apr-14</td>\n",
       "      <td>2 States</td>\n",
       "      <td>LW</td>\n",
       "      <td>Romance</td>\n",
       "      <td>36</td>\n",
       "      <td>104.00</td>\n",
       "      <td>8576361</td>\n",
       "      <td>26622</td>\n",
       "      <td>2527</td>\n",
       "    </tr>\n",
       "    <tr>\n",
       "      <th>1</th>\n",
       "      <td>2</td>\n",
       "      <td>4-Jan-13</td>\n",
       "      <td>Table No. 21</td>\n",
       "      <td>N</td>\n",
       "      <td>Thriller</td>\n",
       "      <td>10</td>\n",
       "      <td>12.00</td>\n",
       "      <td>1087320</td>\n",
       "      <td>1129</td>\n",
       "      <td>137</td>\n",
       "    </tr>\n",
       "    <tr>\n",
       "      <th>2</th>\n",
       "      <td>3</td>\n",
       "      <td>18-Jul-14</td>\n",
       "      <td>Amit Sahni Ki List</td>\n",
       "      <td>N</td>\n",
       "      <td>Comedy</td>\n",
       "      <td>10</td>\n",
       "      <td>4.00</td>\n",
       "      <td>572336</td>\n",
       "      <td>586</td>\n",
       "      <td>54</td>\n",
       "    </tr>\n",
       "    <tr>\n",
       "      <th>3</th>\n",
       "      <td>4</td>\n",
       "      <td>4-Jan-13</td>\n",
       "      <td>Rajdhani Express</td>\n",
       "      <td>N</td>\n",
       "      <td>Drama</td>\n",
       "      <td>7</td>\n",
       "      <td>0.35</td>\n",
       "      <td>42626</td>\n",
       "      <td>86</td>\n",
       "      <td>19</td>\n",
       "    </tr>\n",
       "    <tr>\n",
       "      <th>4</th>\n",
       "      <td>5</td>\n",
       "      <td>4-Jul-14</td>\n",
       "      <td>Bobby Jasoos</td>\n",
       "      <td>N</td>\n",
       "      <td>Comedy</td>\n",
       "      <td>18</td>\n",
       "      <td>10.80</td>\n",
       "      <td>3113427</td>\n",
       "      <td>4512</td>\n",
       "      <td>1224</td>\n",
       "    </tr>\n",
       "    <tr>\n",
       "      <th>...</th>\n",
       "      <td>...</td>\n",
       "      <td>...</td>\n",
       "      <td>...</td>\n",
       "      <td>...</td>\n",
       "      <td>...</td>\n",
       "      <td>...</td>\n",
       "      <td>...</td>\n",
       "      <td>...</td>\n",
       "      <td>...</td>\n",
       "      <td>...</td>\n",
       "    </tr>\n",
       "    <tr>\n",
       "      <th>144</th>\n",
       "      <td>145</td>\n",
       "      <td>27-Feb-15</td>\n",
       "      <td>Dum Laga Ke Haisha</td>\n",
       "      <td>N</td>\n",
       "      <td>Comedy</td>\n",
       "      <td>15</td>\n",
       "      <td>30.00</td>\n",
       "      <td>3250917</td>\n",
       "      <td>8185</td>\n",
       "      <td>615</td>\n",
       "    </tr>\n",
       "    <tr>\n",
       "      <th>145</th>\n",
       "      <td>146</td>\n",
       "      <td>13-Mar-15</td>\n",
       "      <td>NH10</td>\n",
       "      <td>N</td>\n",
       "      <td>Thriller</td>\n",
       "      <td>13</td>\n",
       "      <td>32.10</td>\n",
       "      <td>5592977</td>\n",
       "      <td>15464</td>\n",
       "      <td>1513</td>\n",
       "    </tr>\n",
       "    <tr>\n",
       "      <th>146</th>\n",
       "      <td>147</td>\n",
       "      <td>20-Mar-15</td>\n",
       "      <td>Dilliwali Zaalim Girlfriend</td>\n",
       "      <td>N</td>\n",
       "      <td>Comedy</td>\n",
       "      <td>32</td>\n",
       "      <td>12.00</td>\n",
       "      <td>2316047</td>\n",
       "      <td>4289</td>\n",
       "      <td>807</td>\n",
       "    </tr>\n",
       "    <tr>\n",
       "      <th>147</th>\n",
       "      <td>148</td>\n",
       "      <td>20-Mar-15</td>\n",
       "      <td>Hunterrr</td>\n",
       "      <td>N</td>\n",
       "      <td>Comedy</td>\n",
       "      <td>5</td>\n",
       "      <td>11.89</td>\n",
       "      <td>4674795</td>\n",
       "      <td>3706</td>\n",
       "      <td>762</td>\n",
       "    </tr>\n",
       "    <tr>\n",
       "      <th>148</th>\n",
       "      <td>149</td>\n",
       "      <td>23-May-14</td>\n",
       "      <td>Kochadaiiyaan</td>\n",
       "      <td>HS</td>\n",
       "      <td>Action</td>\n",
       "      <td>150</td>\n",
       "      <td>120.00</td>\n",
       "      <td>4740727</td>\n",
       "      <td>13466</td>\n",
       "      <td>2649</td>\n",
       "    </tr>\n",
       "  </tbody>\n",
       "</table>\n",
       "<p>149 rows × 10 columns</p>\n",
       "</div>"
      ],
      "text/plain": [
       "     SlNo Release Date                    MovieName ReleaseTime      Genre  \\\n",
       "0       1    18-Apr-14                     2 States          LW    Romance   \n",
       "1       2     4-Jan-13                 Table No. 21           N  Thriller    \n",
       "2       3    18-Jul-14           Amit Sahni Ki List           N     Comedy   \n",
       "3       4     4-Jan-13             Rajdhani Express           N     Drama    \n",
       "4       5     4-Jul-14                 Bobby Jasoos           N     Comedy   \n",
       "..    ...          ...                          ...         ...        ...   \n",
       "144   145    27-Feb-15           Dum Laga Ke Haisha           N     Comedy   \n",
       "145   146    13-Mar-15                         NH10           N   Thriller   \n",
       "146   147    20-Mar-15  Dilliwali Zaalim Girlfriend           N     Comedy   \n",
       "147   148    20-Mar-15                     Hunterrr           N     Comedy   \n",
       "148   149    23-May-14                Kochadaiiyaan          HS     Action   \n",
       "\n",
       "     Budget  BoxOfficeCollection  YoutubeViews  YoutubeLikes  YoutubeDislikes  \n",
       "0        36               104.00       8576361         26622             2527  \n",
       "1        10                12.00       1087320          1129              137  \n",
       "2        10                 4.00        572336           586               54  \n",
       "3         7                 0.35         42626            86               19  \n",
       "4        18                10.80       3113427          4512             1224  \n",
       "..      ...                  ...           ...           ...              ...  \n",
       "144      15                30.00       3250917          8185              615  \n",
       "145      13                32.10       5592977         15464             1513  \n",
       "146      32                12.00       2316047          4289              807  \n",
       "147       5                11.89       4674795          3706              762  \n",
       "148     150               120.00       4740727         13466             2649  \n",
       "\n",
       "[149 rows x 10 columns]"
      ]
     },
     "execution_count": 4,
     "metadata": {},
     "output_type": "execute_result"
    }
   ],
   "source": [
    "import pandas as pd\n",
    "import matplotlib.pyplot as plt\n",
    "import seaborn as sn\n",
    "%matplotlib inline\n",
    "\n",
    "data = pd.read_csv('bollywood.csv')\n",
    "data"
   ]
  },
  {
   "cell_type": "markdown",
   "id": "eacb2cc7",
   "metadata": {},
   "source": [
    "# Data cleaning"
   ]
  },
  {
   "cell_type": "code",
   "execution_count": 5,
   "id": "c638565a",
   "metadata": {},
   "outputs": [],
   "source": [
    "data['Genre'] = data['Genre'].replace(['Action ', 'Thriller ', ' Drama '], ['Action', 'Thriller', 'Drama'])"
   ]
  },
  {
   "cell_type": "markdown",
   "id": "2229f601",
   "metadata": {},
   "source": [
    "#### 1. how many records are present in the dataset?"
   ]
  },
  {
   "cell_type": "code",
   "execution_count": 6,
   "id": "b8b00038",
   "metadata": {},
   "outputs": [
    {
     "data": {
      "text/plain": [
       "(149, 10)"
      ]
     },
     "execution_count": 6,
     "metadata": {},
     "output_type": "execute_result"
    }
   ],
   "source": [
    "data.shape"
   ]
  },
  {
   "cell_type": "markdown",
   "id": "573c6653",
   "metadata": {},
   "source": [
    "There are 149 records in the dataset. labelled 0 to 148"
   ]
  },
  {
   "cell_type": "markdown",
   "id": "4f394b0d",
   "metadata": {},
   "source": [
    "#### 2. How many movies got released in each genre? which genre had the highest number of releases? sort number of releases in each genre in descending order"
   ]
  },
  {
   "cell_type": "code",
   "execution_count": 7,
   "id": "aaa92ecb",
   "metadata": {},
   "outputs": [
    {
     "data": {
      "text/plain": [
       "Genre\n",
       "Comedy      36\n",
       "Drama       35\n",
       "Thriller    29\n",
       "Romance     25\n",
       "Action      24\n",
       "Name: count, dtype: int64"
      ]
     },
     "execution_count": 7,
     "metadata": {},
     "output_type": "execute_result"
    }
   ],
   "source": [
    "data['Genre'].value_counts()"
   ]
  },
  {
   "cell_type": "markdown",
   "id": "803c974b",
   "metadata": {},
   "source": [
    "There are 36 movies in the comedy genre, 35 movies in the Drama genre, 29 movies in the Thriller genre, 25 movies in the Romance Genre and 24 movies in the Action genre. \n",
    "\n",
    "The genre with the highest number of release is the comedy genre with 36 releases."
   ]
  },
  {
   "cell_type": "markdown",
   "id": "4dbfd417",
   "metadata": {},
   "source": [
    "#### 3. how many movies in each genre got released in different release times like long weekend, festive season(Do a cross tabulation between genre and release times"
   ]
  },
  {
   "cell_type": "code",
   "execution_count": 8,
   "id": "02d56cc2",
   "metadata": {},
   "outputs": [
    {
     "data": {
      "text/html": [
       "<div>\n",
       "<style scoped>\n",
       "    .dataframe tbody tr th:only-of-type {\n",
       "        vertical-align: middle;\n",
       "    }\n",
       "\n",
       "    .dataframe tbody tr th {\n",
       "        vertical-align: top;\n",
       "    }\n",
       "\n",
       "    .dataframe thead th {\n",
       "        text-align: right;\n",
       "    }\n",
       "</style>\n",
       "<table border=\"1\" class=\"dataframe\">\n",
       "  <thead>\n",
       "    <tr style=\"text-align: right;\">\n",
       "      <th>ReleaseTime</th>\n",
       "      <th>FS</th>\n",
       "      <th>HS</th>\n",
       "      <th>LW</th>\n",
       "      <th>N</th>\n",
       "    </tr>\n",
       "    <tr>\n",
       "      <th>Genre</th>\n",
       "      <th></th>\n",
       "      <th></th>\n",
       "      <th></th>\n",
       "      <th></th>\n",
       "    </tr>\n",
       "  </thead>\n",
       "  <tbody>\n",
       "    <tr>\n",
       "      <th>Action</th>\n",
       "      <td>3</td>\n",
       "      <td>3</td>\n",
       "      <td>3</td>\n",
       "      <td>15</td>\n",
       "    </tr>\n",
       "    <tr>\n",
       "      <th>Comedy</th>\n",
       "      <td>3</td>\n",
       "      <td>5</td>\n",
       "      <td>5</td>\n",
       "      <td>23</td>\n",
       "    </tr>\n",
       "    <tr>\n",
       "      <th>Drama</th>\n",
       "      <td>4</td>\n",
       "      <td>6</td>\n",
       "      <td>1</td>\n",
       "      <td>24</td>\n",
       "    </tr>\n",
       "    <tr>\n",
       "      <th>Romance</th>\n",
       "      <td>3</td>\n",
       "      <td>3</td>\n",
       "      <td>4</td>\n",
       "      <td>15</td>\n",
       "    </tr>\n",
       "    <tr>\n",
       "      <th>Thriller</th>\n",
       "      <td>4</td>\n",
       "      <td>1</td>\n",
       "      <td>2</td>\n",
       "      <td>22</td>\n",
       "    </tr>\n",
       "  </tbody>\n",
       "</table>\n",
       "</div>"
      ],
      "text/plain": [
       "ReleaseTime  FS  HS  LW   N\n",
       "Genre                      \n",
       "Action        3   3   3  15\n",
       "Comedy        3   5   5  23\n",
       "Drama         4   6   1  24\n",
       "Romance       3   3   4  15\n",
       "Thriller      4   1   2  22"
      ]
     },
     "execution_count": 8,
     "metadata": {},
     "output_type": "execute_result"
    }
   ],
   "source": [
    "pd.crosstab(data['Genre'], data['ReleaseTime'])"
   ]
  },
  {
   "cell_type": "markdown",
   "id": "32a06155",
   "metadata": {},
   "source": [
    "The Action Genre has 3 movies released in the Festive season, 3 in the Holiday season, 3 in the Long weekend and 15 in the normal.\n",
    "\n",
    "The Comedy Genre has 3 movies released in the Festive season, 5 in the Holiday season, 5 in the Long weekend and 23 in the normal.\n",
    "\n",
    "The Drama Genre has 4 movies released in the Festive season, 6 in the Holiday season, 1 in the Long weekend and 24 in the normal.\n",
    "\n",
    "The Romance Genre has 3 movies released in the Festive season, 3 in the Holiday season, 4 in the Long weekend and 15 in the normal.\n",
    "\n",
    "The Thriller Genre has 4 movies released in the Festive season, 1 in the Holiday season, 2 in the Long weekend and 22 in the normal."
   ]
  },
  {
   "cell_type": "markdown",
   "id": "f8987b76",
   "metadata": {},
   "source": [
    "#### 4. which month of the year, maximum number movies released are seen? extract a new column called month from release date column"
   ]
  },
  {
   "cell_type": "code",
   "execution_count": 9,
   "id": "94f39244",
   "metadata": {},
   "outputs": [],
   "source": [
    "data['Release Date'] =pd.to_datetime(data['Release Date'], format = '%d-%b-%y')"
   ]
  },
  {
   "cell_type": "code",
   "execution_count": 10,
   "id": "e02f5362",
   "metadata": {},
   "outputs": [
    {
     "data": {
      "text/plain": [
       "Month\n",
       "January      20\n",
       "March        19\n",
       "May          18\n",
       "July         16\n",
       "February     16\n",
       "April        11\n",
       "September    10\n",
       "June         10\n",
       "November     10\n",
       "October       9\n",
       "August        8\n",
       "December      2\n",
       "Name: count, dtype: int64"
      ]
     },
     "execution_count": 10,
     "metadata": {},
     "output_type": "execute_result"
    }
   ],
   "source": [
    "data['Month'] = data['Release Date'].dt.month_name()\n",
    "\n",
    "data['Month'].value_counts()"
   ]
  },
  {
   "cell_type": "markdown",
   "id": "41f80d6a",
   "metadata": {},
   "source": [
    "January has the most movie released with the count as 20."
   ]
  },
  {
   "cell_type": "markdown",
   "id": "e85077d9",
   "metadata": {},
   "source": [
    "#### 5. which month of the year typically sees most releases of high budgeted movies, that is movies with the budget of 25 crore or more"
   ]
  },
  {
   "cell_type": "code",
   "execution_count": 11,
   "id": "29c8ac0d",
   "metadata": {},
   "outputs": [
    {
     "data": {
      "text/plain": [
       "Month\n",
       "February     9\n",
       "January      8\n",
       "March        7\n",
       "August       7\n",
       "November     6\n",
       "July         6\n",
       "September    5\n",
       "June         5\n",
       "April        4\n",
       "October      4\n",
       "May          3\n",
       "December     2\n",
       "Name: count, dtype: int64"
      ]
     },
     "execution_count": 11,
     "metadata": {},
     "output_type": "execute_result"
    }
   ],
   "source": [
    "budget = data[data[\"Budget\"] >= 25]\n",
    "budget['Month'].value_counts()\n",
    "# budget.head(10)"
   ]
  },
  {
   "cell_type": "markdown",
   "id": "3108ae52",
   "metadata": {},
   "source": [
    "Report: February sees the most releases with the count of 9."
   ]
  },
  {
   "cell_type": "markdown",
   "id": "6173189d",
   "metadata": {},
   "source": [
    "#### 6. which are the top ten movies with maximum return investment(ROI). calculate return on investment ROI as boxOfficeCollection - budget / budget"
   ]
  },
  {
   "cell_type": "code",
   "execution_count": 12,
   "id": "9aa2cd20",
   "metadata": {
    "scrolled": true
   },
   "outputs": [
    {
     "data": {
      "text/html": [
       "<div>\n",
       "<style scoped>\n",
       "    .dataframe tbody tr th:only-of-type {\n",
       "        vertical-align: middle;\n",
       "    }\n",
       "\n",
       "    .dataframe tbody tr th {\n",
       "        vertical-align: top;\n",
       "    }\n",
       "\n",
       "    .dataframe thead th {\n",
       "        text-align: right;\n",
       "    }\n",
       "</style>\n",
       "<table border=\"1\" class=\"dataframe\">\n",
       "  <thead>\n",
       "    <tr style=\"text-align: right;\">\n",
       "      <th></th>\n",
       "      <th>MovieName</th>\n",
       "      <th>BoxOfficeCollection</th>\n",
       "      <th>Budget</th>\n",
       "      <th>ROI</th>\n",
       "    </tr>\n",
       "  </thead>\n",
       "  <tbody>\n",
       "    <tr>\n",
       "      <th>64</th>\n",
       "      <td>Aashiqui 2</td>\n",
       "      <td>110.0</td>\n",
       "      <td>12</td>\n",
       "      <td>8.166667</td>\n",
       "    </tr>\n",
       "    <tr>\n",
       "      <th>89</th>\n",
       "      <td>PK</td>\n",
       "      <td>735.0</td>\n",
       "      <td>85</td>\n",
       "      <td>7.647059</td>\n",
       "    </tr>\n",
       "    <tr>\n",
       "      <th>132</th>\n",
       "      <td>Grand Masti</td>\n",
       "      <td>298.0</td>\n",
       "      <td>35</td>\n",
       "      <td>7.514286</td>\n",
       "    </tr>\n",
       "    <tr>\n",
       "      <th>135</th>\n",
       "      <td>The Lunchbox</td>\n",
       "      <td>85.0</td>\n",
       "      <td>10</td>\n",
       "      <td>7.500000</td>\n",
       "    </tr>\n",
       "    <tr>\n",
       "      <th>87</th>\n",
       "      <td>Fukrey</td>\n",
       "      <td>36.2</td>\n",
       "      <td>5</td>\n",
       "      <td>6.240000</td>\n",
       "    </tr>\n",
       "    <tr>\n",
       "      <th>58</th>\n",
       "      <td>Mary Kom</td>\n",
       "      <td>104.0</td>\n",
       "      <td>15</td>\n",
       "      <td>5.933333</td>\n",
       "    </tr>\n",
       "    <tr>\n",
       "      <th>128</th>\n",
       "      <td>Shahid</td>\n",
       "      <td>40.0</td>\n",
       "      <td>6</td>\n",
       "      <td>5.666667</td>\n",
       "    </tr>\n",
       "    <tr>\n",
       "      <th>37</th>\n",
       "      <td>Humpty Sharma Ki Dulhania</td>\n",
       "      <td>130.0</td>\n",
       "      <td>20</td>\n",
       "      <td>5.500000</td>\n",
       "    </tr>\n",
       "    <tr>\n",
       "      <th>101</th>\n",
       "      <td>Bhaag Milkha Bhaag</td>\n",
       "      <td>164.0</td>\n",
       "      <td>30</td>\n",
       "      <td>4.466667</td>\n",
       "    </tr>\n",
       "    <tr>\n",
       "      <th>115</th>\n",
       "      <td>Chennai Express</td>\n",
       "      <td>395.0</td>\n",
       "      <td>75</td>\n",
       "      <td>4.266667</td>\n",
       "    </tr>\n",
       "  </tbody>\n",
       "</table>\n",
       "</div>"
      ],
      "text/plain": [
       "                     MovieName  BoxOfficeCollection  Budget       ROI\n",
       "64                  Aashiqui 2                110.0      12  8.166667\n",
       "89                          PK                735.0      85  7.647059\n",
       "132                Grand Masti                298.0      35  7.514286\n",
       "135               The Lunchbox                 85.0      10  7.500000\n",
       "87                      Fukrey                 36.2       5  6.240000\n",
       "58                    Mary Kom                104.0      15  5.933333\n",
       "128                     Shahid                 40.0       6  5.666667\n",
       "37   Humpty Sharma Ki Dulhania                130.0      20  5.500000\n",
       "101         Bhaag Milkha Bhaag                164.0      30  4.466667\n",
       "115            Chennai Express                395.0      75  4.266667"
      ]
     },
     "execution_count": 12,
     "metadata": {},
     "output_type": "execute_result"
    }
   ],
   "source": [
    "data['ROI'] = (data['BoxOfficeCollection'] - data['Budget']) / data['Budget']\n",
    "\n",
    "data[['MovieName', 'BoxOfficeCollection', 'Budget', 'ROI']].sort_values('ROI', ascending = False)[:10]"
   ]
  },
  {
   "cell_type": "markdown",
   "id": "458daa3d",
   "metadata": {},
   "source": [
    "The top movies with the maximum ROI are: Aashiqui 2 with the ROI of 8.166667,\n",
    "\n",
    "PK with the ROI of 7.647059,\n",
    "\n",
    "Grand Masti with 7.514286, \n",
    "\n",
    "The Lunchbox with 7.5, \n",
    "\n",
    "Fukrey with 6.24, \n",
    "\n",
    "Mary Kom with 5.933333, \n",
    "\n",
    "Shahid with 5.666667, \n",
    "\n",
    "Humpty Sharma Ki Dulhania with 5.5, \n",
    "\n",
    "Bhaag Milka Bhaag with 4.466667 and \n",
    "\n",
    "Chennai Express with 4.266667."
   ]
  },
  {
   "cell_type": "markdown",
   "id": "36602b6b",
   "metadata": {},
   "source": [
    "#### 7. Do the movies have higher ROI if they get released on festive seasons or long weekend? calculate the average ROI from different release times. long weekend"
   ]
  },
  {
   "cell_type": "code",
   "execution_count": 13,
   "id": "0a7f2258",
   "metadata": {},
   "outputs": [
    {
     "data": {
      "text/html": [
       "<div>\n",
       "<style scoped>\n",
       "    .dataframe tbody tr th:only-of-type {\n",
       "        vertical-align: middle;\n",
       "    }\n",
       "\n",
       "    .dataframe tbody tr th {\n",
       "        vertical-align: top;\n",
       "    }\n",
       "\n",
       "    .dataframe thead th {\n",
       "        text-align: right;\n",
       "    }\n",
       "</style>\n",
       "<table border=\"1\" class=\"dataframe\">\n",
       "  <thead>\n",
       "    <tr style=\"text-align: right;\">\n",
       "      <th></th>\n",
       "      <th>ReleaseTime</th>\n",
       "      <th>ROI</th>\n",
       "    </tr>\n",
       "  </thead>\n",
       "  <tbody>\n",
       "    <tr>\n",
       "      <th>0</th>\n",
       "      <td>FS</td>\n",
       "      <td>0.973853</td>\n",
       "    </tr>\n",
       "    <tr>\n",
       "      <th>1</th>\n",
       "      <td>HS</td>\n",
       "      <td>0.850867</td>\n",
       "    </tr>\n",
       "    <tr>\n",
       "      <th>2</th>\n",
       "      <td>LW</td>\n",
       "      <td>1.127205</td>\n",
       "    </tr>\n",
       "    <tr>\n",
       "      <th>3</th>\n",
       "      <td>N</td>\n",
       "      <td>0.657722</td>\n",
       "    </tr>\n",
       "  </tbody>\n",
       "</table>\n",
       "</div>"
      ],
      "text/plain": [
       "  ReleaseTime       ROI\n",
       "0          FS  0.973853\n",
       "1          HS  0.850867\n",
       "2          LW  1.127205\n",
       "3           N  0.657722"
      ]
     },
     "execution_count": 13,
     "metadata": {},
     "output_type": "execute_result"
    }
   ],
   "source": [
    "data.groupby('ReleaseTime')['ROI'].mean().reset_index()"
   ]
  },
  {
   "cell_type": "markdown",
   "id": "71694f3c",
   "metadata": {},
   "source": [
    "Movies released in Long Weekends have an highest average ROI of 1.127205, \n",
    "\n",
    "movies released in Festive season have an average ROI of 0.973853, \n",
    "\n",
    "movies released in Holiday season have an average ROI of 0.850867 \n",
    "\n",
    "The movies released in Normal times have 0.657722."
   ]
  },
  {
   "cell_type": "markdown",
   "id": "16368e41",
   "metadata": {},
   "source": [
    "#### 8. Draw a histogram and a distribution plot to find out the distribution of movie budgets. Interpret the plot to conclude if the most movies are high or low budgeted movies"
   ]
  },
  {
   "cell_type": "code",
   "execution_count": 14,
   "id": "9216dcf9",
   "metadata": {},
   "outputs": [
    {
     "data": {
      "image/png": "[encoded data removed]",
      "text/plain": [
       "<Figure size 640x480 with 1 Axes>"
      ]
     },
     "metadata": {},
     "output_type": "display_data"
    }
   ],
   "source": [
    "plt.hist(data['Budget']);\n",
    "#Histogram"
   ]
  },
  {
   "cell_type": "markdown",
   "id": "df68c8a4",
   "metadata": {},
   "source": [
    "The interpretation of the above histogram plot. Most movies are low budgeted movies"
   ]
  },
  {
   "cell_type": "code",
   "execution_count": 15,
   "id": "f81a3aa6",
   "metadata": {},
   "outputs": [
    {
     "data": {
      "image/png": "[encoded data removed]",
      "text/plain": [
       "<Figure size 500x500 with 1 Axes>"
      ]
     },
     "metadata": {},
     "output_type": "display_data"
    }
   ],
   "source": [
    "sn.displot(data['Budget']);\n",
    "#distribution plot"
   ]
  },
  {
   "cell_type": "markdown",
   "id": "4ffa3898",
   "metadata": {},
   "source": [
    "#### 9. Compare the distribution of ROIs between movies with comedy genre and drama. which genre typically sees higher ROIs."
   ]
  },
  {
   "cell_type": "code",
   "execution_count": 16,
   "id": "22d92b65",
   "metadata": {
    "scrolled": true
   },
   "outputs": [
    {
     "data": {
      "image/png": "[encoded data removed]",
      "text/plain": [
       "<Figure size 640x480 with 1 Axes>"
      ]
     },
     "metadata": {},
     "output_type": "display_data"
    }
   ],
   "source": [
    "sn.boxplot(x = 'Genre',y = 'ROI', data = data );"
   ]
  },
  {
   "cell_type": "markdown",
   "id": "a17b2db3",
   "metadata": {},
   "source": [
    "comparing the comedy genre and the drama genre, Drama sees higher ROI compared to the Comedy genre"
   ]
  },
  {
   "cell_type": "markdown",
   "id": "6a1fef7b",
   "metadata": {},
   "source": [
    "#### 10 Is there a correlation between box office collection and youtube likes? is the correlation positive or negative"
   ]
  },
  {
   "cell_type": "code",
   "execution_count": 17,
   "id": "74d055d8",
   "metadata": {},
   "outputs": [
    {
     "data": {
      "text/html": [
       "<div>\n",
       "<style scoped>\n",
       "    .dataframe tbody tr th:only-of-type {\n",
       "        vertical-align: middle;\n",
       "    }\n",
       "\n",
       "    .dataframe tbody tr th {\n",
       "        vertical-align: top;\n",
       "    }\n",
       "\n",
       "    .dataframe thead th {\n",
       "        text-align: right;\n",
       "    }\n",
       "</style>\n",
       "<table border=\"1\" class=\"dataframe\">\n",
       "  <thead>\n",
       "    <tr style=\"text-align: right;\">\n",
       "      <th></th>\n",
       "      <th>BoxOfficeCollection</th>\n",
       "      <th>YoutubeLikes</th>\n",
       "    </tr>\n",
       "  </thead>\n",
       "  <tbody>\n",
       "    <tr>\n",
       "      <th>BoxOfficeCollection</th>\n",
       "      <td>1.000000</td>\n",
       "      <td>0.682517</td>\n",
       "    </tr>\n",
       "    <tr>\n",
       "      <th>YoutubeLikes</th>\n",
       "      <td>0.682517</td>\n",
       "      <td>1.000000</td>\n",
       "    </tr>\n",
       "  </tbody>\n",
       "</table>\n",
       "</div>"
      ],
      "text/plain": [
       "                     BoxOfficeCollection  YoutubeLikes\n",
       "BoxOfficeCollection             1.000000      0.682517\n",
       "YoutubeLikes                    0.682517      1.000000"
      ]
     },
     "execution_count": 17,
     "metadata": {},
     "output_type": "execute_result"
    }
   ],
   "source": [
    "data[['BoxOfficeCollection', 'YoutubeLikes']].corr()"
   ]
  },
  {
   "cell_type": "markdown",
   "id": "03385e1b",
   "metadata": {},
   "source": [
    "There is a positive correlation between BoxOfficeColletion and YoutubeLike. the value is 0.682517"
   ]
  },
  {
   "cell_type": "markdown",
   "id": "3ee33b76",
   "metadata": {},
   "source": [
    "#### 11. Which genre of movies typically sees more YouTube likes Draw boxplots for each genre of movies to compare"
   ]
  },
  {
   "cell_type": "code",
   "execution_count": 18,
   "id": "26577a4f",
   "metadata": {
    "scrolled": true
   },
   "outputs": [
    {
     "data": {
      "image/png": "[encoded data removed]",
      "text/plain": [
       "<Figure size 640x480 with 1 Axes>"
      ]
     },
     "metadata": {},
     "output_type": "display_data"
    }
   ],
   "source": [
    "sn.boxplot(x = 'Genre', y = 'YoutubeLikes', data = data);"
   ]
  },
  {
   "cell_type": "markdown",
   "id": "e292eb8a",
   "metadata": {},
   "source": [
    "The action movie genre sees more youtubeLikes"
   ]
  },
  {
   "cell_type": "markdown",
   "id": "d3f2464f",
   "metadata": {},
   "source": [
    "#### 12. which of the variable among budget, boxofficecollection, youtube view, youtubelike, youtube dislikes are highly correlated. draw pair plot or heatmap"
   ]
  },
  {
   "cell_type": "code",
   "execution_count": 19,
   "id": "b05d977b",
   "metadata": {},
   "outputs": [
    {
     "data": {
      "image/png": "[encoded data removed]",
      "text/plain": [
       "<Figure size 640x480 with 2 Axes>"
      ]
     },
     "metadata": {},
     "output_type": "display_data"
    }
   ],
   "source": [
    "num = data[['Budget', 'BoxOfficeCollection', 'YoutubeViews', 'YoutubeLikes', 'YoutubeDislikes']]\n",
    "sn.heatmap(num.corr(), annot = True);"
   ]
  },
  {
   "cell_type": "markdown",
   "id": "70755604",
   "metadata": {},
   "source": [
    "the YoutubeLikes and youtubeViews have a postive correlation of 0.88.\n",
    "the YoutubeDislikes and YoutubeViews have a positive correlation of 0.85.\n",
    "the YoutubeDislikes and YoutubeLikes have a positive correlation of 0.86."
   ]
  }
 ],
 "metadata": {
  "kernelspec": {
   "display_name": "Python 3 (ipykernel)",
   "language": "python",
   "name": "python3"
  },
  "language_info": {
   "codemirror_mode": {
    "name": "ipython",
    "version": 3
   },
   "file_extension": ".py",
   "mimetype": "text/x-python",
   "name": "python",
   "nbconvert_exporter": "python",
   "pygments_lexer": "ipython3",
   "version": "3.11.2"
  }
 },
 "nbformat": 4,
 "nbformat_minor": 5
}
