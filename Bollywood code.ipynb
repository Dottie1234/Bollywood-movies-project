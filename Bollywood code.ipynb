{
 "cells": [
  {
   "cell_type": "code",
   "execution_count": null,
   "id": "ee811bab",
   "metadata": {
    "scrolled": false
   },
   "outputs": [],
   "source": [
    "import pandas as pd\n",
    "import matplotlib.pyplot as plt\n",
    "import seaborn as sn\n",
    "%matplotlib inline\n",
    "\n",
    "pd.set_option('display.max_rows', 20)\n",
    "\n",
    "data = pd.read_csv('bollywood.csv')\n",
    "data"
   ]
  },
  {
   "cell_type": "code",
   "execution_count": null,
   "id": "c638565a",
   "metadata": {},
   "outputs": [],
   "source": [
    "data['Genre'].unique()\n",
    "data['Genre'] = data['Genre'].replace(['Action ', 'Thriller ', ' Drama '], ['Action', 'Thriller', 'Drama'])\n",
    "data['Genre'].unique()"
   ]
  },
  {
   "cell_type": "markdown",
   "id": "2229f601",
   "metadata": {},
   "source": [
    "#### 1. how many records are present in the dataset?"
   ]
  },
  {
   "cell_type": "code",
   "execution_count": null,
   "id": "b8b00038",
   "metadata": {},
   "outputs": [],
   "source": [
    "data.info()"
   ]
  },
  {
   "cell_type": "markdown",
   "id": "573c6653",
   "metadata": {},
   "source": [
    "Report: There are 149 records in the dataset. labelled 0 to 148"
   ]
  },
  {
   "cell_type": "markdown",
   "id": "4f394b0d",
   "metadata": {},
   "source": [
    "#### 2. How many movies got released in each genre? which genre had the highest number of releases? sort number of releases in each genre in descending order"
   ]
  },
  {
   "cell_type": "code",
   "execution_count": null,
   "id": "aaa92ecb",
   "metadata": {},
   "outputs": [],
   "source": [
    "data['Genre'].value_counts()"
   ]
  },
  {
   "cell_type": "markdown",
   "id": "803c974b",
   "metadata": {},
   "source": [
    "Report: There are 36 movies in the comedy genre, 35 movies in the Drama genre, 29 movies in the Thriller genre, 25 movies in the Romance Genre and 24 movies in the Action genre. The genre with the highest number of release is the comedy genre with 36 releases."
   ]
  },
  {
   "cell_type": "markdown",
   "id": "4dbfd417",
   "metadata": {},
   "source": [
    "#### 3. how many movies in each genre got released in different release times like long weekend, festive season(Do a cross tabulation between genre and release times"
   ]
  },
  {
   "cell_type": "code",
   "execution_count": null,
   "id": "02d56cc2",
   "metadata": {},
   "outputs": [],
   "source": [
    "pd.crosstab(data['Genre'], data['ReleaseTime'])"
   ]
  },
  {
   "cell_type": "markdown",
   "id": "32a06155",
   "metadata": {},
   "source": [
    "#### Report\n",
    "##### the Action Genre has 3 movies released in the Festive season, 3 in the Holiday season, 3 in the Long weekend and 15 in the normal.\n",
    "##### the Comedy Genre has 3 movies released in the Festive season, 5 in the Holiday season, 5 in the Long weekend and 23 in the normal.\n",
    "##### the Drama Genre has 4 movies released in the Festive season, 6 in the Holiday season, 1 in the Long weekend and 24 in the normal.\n",
    "##### the Romance Genre has 3 movies released in the Festive season, 3 in the Holiday season, 4 in the Long weekend and 15 in the normal.\n",
    "##### the Thriller Genre has 4 movies released in the Festive season, 1 in the Holiday season, 2 in the Long weekend and 22 in the normal."
   ]
  },
  {
   "cell_type": "markdown",
   "id": "f8987b76",
   "metadata": {},
   "source": [
    "#### 4. which month of the year, maximum number movies released are seen? extract a new column called month from release date column"
   ]
  },
  {
   "cell_type": "code",
   "execution_count": null,
   "id": "94f39244",
   "metadata": {},
   "outputs": [],
   "source": [
    "data['Release Date'] =pd.to_datetime(data['Release Date'], format = '%d-%b-%y')"
   ]
  },
  {
   "cell_type": "code",
   "execution_count": null,
   "id": "e02f5362",
   "metadata": {},
   "outputs": [],
   "source": [
    "data['Month'] = data['Release Date'].dt.month_name()\n",
    "\n",
    "data['Month'].value_counts()"
   ]
  },
  {
   "cell_type": "markdown",
   "id": "41f80d6a",
   "metadata": {},
   "source": [
    "January has the most movie released with the count as 20."
   ]
  },
  {
   "cell_type": "markdown",
   "id": "e85077d9",
   "metadata": {},
   "source": [
    "#### 5. which month of the year typically sees most releases of high budgeted movies, that is movies with the budget of 25 crore or more"
   ]
  },
  {
   "cell_type": "code",
   "execution_count": null,
   "id": "29c8ac0d",
   "metadata": {},
   "outputs": [],
   "source": [
    "budget = data[data[\"Budget\"] >= 25]\n",
    "budget['Month'].value_counts()"
   ]
  },
  {
   "cell_type": "markdown",
   "id": "3108ae52",
   "metadata": {},
   "source": [
    "Report: February sees the most releases with the count of 9."
   ]
  },
  {
   "cell_type": "markdown",
   "id": "6173189d",
   "metadata": {},
   "source": [
    "#### 6. which are the top ten movies with maximum return investment(ROI). calculate return on investment ROI as boxOfficeCollection - budget / budget"
   ]
  },
  {
   "cell_type": "code",
   "execution_count": null,
   "id": "9aa2cd20",
   "metadata": {
    "scrolled": true
   },
   "outputs": [],
   "source": [
    "data['ROI'] = (data['BoxOfficeCollection'] - data['Budget']) / data['Budget']\n",
    "\n",
    "data[['MovieName', 'BoxOfficeCollection', 'Budget', 'ROI']].sort_values('ROI', ascending = False)[:10]"
   ]
  },
  {
   "cell_type": "markdown",
   "id": "458daa3d",
   "metadata": {},
   "source": [
    "The top movies with the maximum ROI are: Aashiqui 2 with the ROI of 8.166667, PK with the ROI of 7.647059, Grand Masti with 7.514286, The Lunchbox with 7.5, Fukrey with 6.24, Mary Kom with 5.933333, Shahid with 5.666667, Humpty Sharma Ki Dulhania with 5.5, Bhaag Milka Bhaag with 4.466667 and Chennai Express with 4.266667."
   ]
  },
  {
   "cell_type": "markdown",
   "id": "36602b6b",
   "metadata": {},
   "source": [
    "#### 7. Do the movies have higher ROI if they get released on festive seasons or long weekend? calculate the average ROI from different release times. long weekend"
   ]
  },
  {
   "cell_type": "code",
   "execution_count": null,
   "id": "0a7f2258",
   "metadata": {},
   "outputs": [],
   "source": [
    "data.groupby('ReleaseTime')['ROI'].mean().reset_index()"
   ]
  },
  {
   "cell_type": "markdown",
   "id": "71694f3c",
   "metadata": {},
   "source": [
    "Movies released in Long Weekends have an highest average ROI of 1.127205, movies released in Festive season have an average ROI of 0.973853, movies released in Holiday season have an average ROI of 0.850867 and the movies released in Normal times have 0.657722."
   ]
  },
  {
   "cell_type": "markdown",
   "id": "16368e41",
   "metadata": {},
   "source": [
    "#### 8. Draw a histogram and a distribution plot to find out the distribution of movie budgets. Interpret the plot to conclude if the most movies are high or low budgeted movies"
   ]
  },
  {
   "cell_type": "code",
   "execution_count": null,
   "id": "9216dcf9",
   "metadata": {},
   "outputs": [],
   "source": [
    "plt.hist(data['Budget']);\n",
    "#Histogram"
   ]
  },
  {
   "cell_type": "markdown",
   "id": "df68c8a4",
   "metadata": {},
   "source": [
    "The interpretation of the above histogram plot. Most movies are low budgeted movies"
   ]
  },
  {
   "cell_type": "code",
   "execution_count": null,
   "id": "f81a3aa6",
   "metadata": {},
   "outputs": [],
   "source": [
    "sn.displot(data['Budget']);\n",
    "#distribution plot"
   ]
  },
  {
   "cell_type": "markdown",
   "id": "4ffa3898",
   "metadata": {},
   "source": [
    "#### 9. Compare the distribution of ROIs between movies with comedy genre and drama. which genre typically sees higher ROIs."
   ]
  },
  {
   "cell_type": "code",
   "execution_count": null,
   "id": "22d92b65",
   "metadata": {
    "scrolled": true
   },
   "outputs": [],
   "source": [
    "sn.boxplot(x = 'Genre',y = 'ROI', data = data );"
   ]
  },
  {
   "cell_type": "markdown",
   "id": "a17b2db3",
   "metadata": {},
   "source": [
    "comparing the comedy genre and the drama genre, Drama sees higher ROI compared to the Comedy genre"
   ]
  },
  {
   "cell_type": "markdown",
   "id": "6a1fef7b",
   "metadata": {},
   "source": [
    "#### 10 Is there a correlation between box office collection and youtube likes? is the correlation positive or negative"
   ]
  },
  {
   "cell_type": "code",
   "execution_count": null,
   "id": "74d055d8",
   "metadata": {},
   "outputs": [],
   "source": [
    "data[['BoxOfficeCollection', 'YoutubeLikes']].corr()"
   ]
  },
  {
   "cell_type": "markdown",
   "id": "03385e1b",
   "metadata": {},
   "source": [
    "There is a positive correlation between BoxOfficeColletion and YoutubeLike. the value is 0.682517"
   ]
  },
  {
   "cell_type": "markdown",
   "id": "3ee33b76",
   "metadata": {},
   "source": [
    "#### 11. Which genre of movies typically sees more YouTube likes Draw boxplots for each genre of movies to compare"
   ]
  },
  {
   "cell_type": "code",
   "execution_count": null,
   "id": "26577a4f",
   "metadata": {
    "scrolled": true
   },
   "outputs": [],
   "source": [
    "sn.boxplot(x = 'Genre', y = 'YoutubeLikes', data = data);"
   ]
  },
  {
   "cell_type": "markdown",
   "id": "e292eb8a",
   "metadata": {},
   "source": [
    "The action movie genre sees more youtubeLikes"
   ]
  },
  {
   "cell_type": "markdown",
   "id": "d3f2464f",
   "metadata": {},
   "source": [
    "#### 12. which of the variable among budget, boxofficecollection, youtube view, youtubelike, youtube dislikes are highly correlated. draw pair plot or heatmap"
   ]
  },
  {
   "cell_type": "code",
   "execution_count": null,
   "id": "b05d977b",
   "metadata": {},
   "outputs": [],
   "source": [
    "num = data[['Budget', 'BoxOfficeCollection', 'YoutubeViews', 'YoutubeLikes', 'YoutubeDislikes']]\n",
    "sn.heatmap(num.corr(), annot = True);"
   ]
  },
  {
   "cell_type": "markdown",
   "id": "70755604",
   "metadata": {},
   "source": [
    "the YoutubeLikes and youtubeViews have a postive correlation of 0.88.\n",
    "the YoutubeDislikes and YoutubeViews have a positive correlation of 0.85.\n",
    "the YoutubeDislikes and YoutubeLikes have a positive correlation of 0.86."
   ]
  }
 ],
 "metadata": {
  "kernelspec": {
   "display_name": "Python 3 (ipykernel)",
   "language": "python",
   "name": "python3"
  },
  "language_info": {
   "codemirror_mode": {
    "name": "ipython",
    "version": 3
   },
   "file_extension": ".py",
   "mimetype": "text/x-python",
   "name": "python",
   "nbconvert_exporter": "python",
   "pygments_lexer": "ipython3",
   "version": "3.11.2"
  }
 },
 "nbformat": 4,
 "nbformat_minor": 5
}
